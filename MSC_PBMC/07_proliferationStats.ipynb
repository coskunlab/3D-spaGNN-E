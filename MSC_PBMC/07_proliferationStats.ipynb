{
 "cells": [
  {
   "cell_type": "code",
   "execution_count": 1,
   "metadata": {},
   "outputs": [],
   "source": [
    "import numpy as np\n",
    "import pandas as pd\n",
    "import matplotlib.pyplot as plt\n",
    "import seaborn as sns\n",
    "import os\n",
    "from matplotlib import rc_context\n",
    "from statannot import add_stat_annotation"
   ]
  },
  {
   "cell_type": "code",
   "execution_count": 5,
   "metadata": {},
   "outputs": [],
   "source": [
    "# Load primed, activated, and naive ki67 data\n",
    "ki67 = pd.read_csv(r'..\\..\\coculture_diagonal\\primed_pbmc\\00_analysis\\ki67_intensity.csv', index_col=0)"
   ]
  },
  {
   "cell_type": "code",
   "execution_count": 9,
   "metadata": {},
   "outputs": [
    {
     "name": "stderr",
     "output_type": "stream",
     "text": [
      "c:\\Users\\zfang38\\Anaconda3\\envs\\skim\\lib\\site-packages\\sklearn\\cluster\\_kmeans.py:1334: UserWarning: KMeans is known to have a memory leak on Windows with MKL, when there are less chunks than available threads. You can avoid it by setting the environment variable OMP_NUM_THREADS=4.\n",
      "  warnings.warn(\n"
     ]
    }
   ],
   "source": [
    "# two clusters, ki67 + and ki67 - labels\n",
    "from sklearn.cluster import KMeans\n",
    "kmeans = KMeans(n_clusters=2, random_state=0).fit(ki67['KI67'].to_numpy().reshape(-1, 1))\n",
    "labels = kmeans.labels_\n",
    "ki67['label'] = labels"
   ]
  },
  {
   "cell_type": "code",
   "execution_count": 21,
   "metadata": {},
   "outputs": [],
   "source": [
    "conditions = []\n",
    "for item in ki67['cellID'].tolist():\n",
    "    if int(item.split('_')[0]) < 15:\n",
    "        conditions.append('primed_activated')\n",
    "    elif int(item.split('_')[0]) < 30:\n",
    "        conditions.append('primed_naive')\n",
    "    elif int(item.split('_')[0]) < 45:\n",
    "        conditions.append('primed_activated')\n",
    "    elif int(item.split('_')[0]) < 60:\n",
    "        conditions.append('primed_naive')\n",
    "    elif int(item.split('_')[0]) < 75:\n",
    "        conditions.append('primed_activated')\n",
    "    elif int(item.split('_')[0]) < 90:\n",
    "        conditions.append('primed_naive')\n",
    "    elif int(item.split('_')[0]) < 105:\n",
    "        conditions.append('primed_activated')\n",
    "    else:\n",
    "        conditions.append('primed_naive')\n",
    "ki67['condition'] = conditions"
   ]
  },
  {
   "cell_type": "code",
   "execution_count": 22,
   "metadata": {},
   "outputs": [],
   "source": [
    "cell_by_condition = ki67.groupby('condition')\n",
    "primed_activated = cell_by_condition.get_group('primed_activated')\n",
    "primed_naive = cell_by_condition.get_group('primed_naive')"
   ]
  },
  {
   "cell_type": "code",
   "execution_count": 25,
   "metadata": {},
   "outputs": [
    {
     "data": {
      "text/plain": [
       "0.05133928571428571"
      ]
     },
     "execution_count": 25,
     "metadata": {},
     "output_type": "execute_result"
    }
   ],
   "source": [
    "primed_activated['label'].mean()"
   ]
  },
  {
   "cell_type": "code",
   "execution_count": 26,
   "metadata": {},
   "outputs": [
    {
     "data": {
      "text/plain": [
       "0.05808080808080808"
      ]
     },
     "execution_count": 26,
     "metadata": {},
     "output_type": "execute_result"
    }
   ],
   "source": [
    "primed_naive['label'].mean()"
   ]
  },
  {
   "cell_type": "markdown",
   "metadata": {},
   "source": [
    "# Label ki67 cells in image, check +/- thresholding"
   ]
  },
  {
   "cell_type": "code",
   "execution_count": null,
   "metadata": {},
   "outputs": [],
   "source": []
  }
 ],
 "metadata": {
  "kernelspec": {
   "display_name": "skim",
   "language": "python",
   "name": "python3"
  },
  "language_info": {
   "codemirror_mode": {
    "name": "ipython",
    "version": 3
   },
   "file_extension": ".py",
   "mimetype": "text/x-python",
   "name": "python",
   "nbconvert_exporter": "python",
   "pygments_lexer": "ipython3",
   "version": "3.8.12"
  }
 },
 "nbformat": 4,
 "nbformat_minor": 2
}
