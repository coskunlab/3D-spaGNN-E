{
 "cells": [
  {
   "cell_type": "code",
   "execution_count": 1,
   "id": "dd22ae0d-ce0c-4337-a1c3-37068eb99ab6",
   "metadata": {},
   "outputs": [],
   "source": [
    "import scanpy as sc\n",
    "import numpy as np\n",
    "import matplotlib.pyplot as plt\n",
    "from matplotlib import rc_context"
   ]
  },
  {
   "cell_type": "code",
   "execution_count": 4,
   "id": "d8add127-8610-4241-a848-a26fb5c99f86",
   "metadata": {},
   "outputs": [],
   "source": [
    "count_adata = sc.read_h5ad(r'.\\results\\count_adata.h5ad')\n",
    "embedding_adata = sc.read_h5ad(r'.\\results\\embedding_adata.h5ad')"
   ]
  },
  {
   "cell_type": "code",
   "execution_count": 6,
   "id": "599bc420-5d83-486c-9064-c33e64c090e4",
   "metadata": {},
   "outputs": [],
   "source": [
    "count_x = count_adata.X\n",
    "count_y = count_adata.obs['cell_id'].tolist()\n",
    "\n",
    "embedding_x = embedding_adata.X\n",
    "embedding_y = embedding_adata.obs['cell_id'].tolist()"
   ]
  },
  {
   "cell_type": "code",
   "execution_count": 7,
   "id": "8729654d-32f4-4a84-90e9-2c46b98b0212",
   "metadata": {},
   "outputs": [],
   "source": [
    "# TODO: Perform cross validation using support vector machine and random forest classifiers"
   ]
  },
  {
   "cell_type": "code",
   "execution_count": null,
   "id": "2312f095-a896-44e0-bbc1-b7d4d596f172",
   "metadata": {},
   "outputs": [],
   "source": []
  }
 ],
 "metadata": {
  "kernelspec": {
   "display_name": "Python 3 (ipykernel)",
   "language": "python",
   "name": "python3"
  },
  "language_info": {
   "codemirror_mode": {
    "name": "ipython",
    "version": 3
   },
   "file_extension": ".py",
   "mimetype": "text/x-python",
   "name": "python",
   "nbconvert_exporter": "python",
   "pygments_lexer": "ipython3",
   "version": "3.8.12"
  }
 },
 "nbformat": 4,
 "nbformat_minor": 5
}
